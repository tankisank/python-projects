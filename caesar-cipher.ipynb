{
 "cells": [
  {
   "cell_type": "code",
   "execution_count": 1,
   "id": "fa620764-82e6-478d-900b-a655b6fe8147",
   "metadata": {},
   "outputs": [
    {
     "name": "stdin",
     "output_type": "stream",
     "text": [
      "Type 'encode' to encrypt, type 'decode' to decrypt:\n",
      " encode\n",
      "Type your message:\n",
      " hii\n",
      "Type the shift number:\n",
      " 5\n"
     ]
    },
    {
     "name": "stdout",
     "output_type": "stream",
     "text": [
      "mnn\n"
     ]
    },
    {
     "name": "stdin",
     "output_type": "stream",
     "text": [
      "do you want to continue to encrypt? y/n n\n",
      "do you want to continue to encrypt or decrypt y/n y\n",
      "Type 'encode' to encrypt, type 'decode' to decrypt:\n",
      " decode\n",
      "Type your message:\n",
      " mnn\n",
      "Type the shift number:\n",
      " 5\n"
     ]
    },
    {
     "name": "stdout",
     "output_type": "stream",
     "text": [
      "hii\n"
     ]
    },
    {
     "name": "stdin",
     "output_type": "stream",
     "text": [
      "do you want to continue to decrypt? y/n n\n",
      "do you want to continue to encrypt or decrypt y/n n\n"
     ]
    }
   ],
   "source": [
    "alphabet = ['a', 'b', 'c', 'd', 'e', 'f', 'g', 'h', 'i', 'j', 'k', 'l', 'm', 'n', 'o', 'p', 'q', 'r', 's', 't', 'u', 'v', 'w', 'x', 'y', 'z']\n",
    "\n",
    "cond=True\n",
    "cond1=True\n",
    "cond2=True\n",
    "def encrypt(shift,text):\n",
    "    newword=\"\"\n",
    "    for i in text:\n",
    "        newword+=alphabet[alphabet.index(i)+shift]\n",
    "    print(newword)\n",
    "def decrypt(shift,text):\n",
    "    newword = \"\"\n",
    "    for i in text:\n",
    "        newword += alphabet[alphabet.index(i) - shift]\n",
    "    print(newword)\n",
    "while cond==True:\n",
    "    direction = input(\"Type 'encode' to encrypt, type 'decode' to decrypt:\\n\")\n",
    "    if (direction == 'encode'):\n",
    "        while cond1==True:\n",
    "            text = input(\"Type your message:\\n\").lower()\n",
    "            shift = int(input(\"Type the shift number:\\n\"))\n",
    "            encrypt(shift, text)\n",
    "            x = input(\"do you want to continue to encrypt? y/n\")\n",
    "            if (x == 'y'):\n",
    "                cond1 = True\n",
    "            else:\n",
    "                cond1 = False\n",
    "    if (direction == 'decode'):\n",
    "        while cond2==True:\n",
    "            text = input(\"Type your message:\\n\").lower()\n",
    "            shift = int(input(\"Type the shift number:\\n\"))\n",
    "            decrypt(shift, text)\n",
    "            x = input(\"do you want to continue to decrypt? y/n\")\n",
    "            if (x == 'y'):\n",
    "                cond2 = True\n",
    "            else:\n",
    "                cond2 = False\n",
    "    z=input(\"do you want to continue to encrypt or decrypt y/n\")\n",
    "    if(z=='y'):\n",
    "        cond==True\n",
    "    else:\n",
    "        cond=False\n",
    "\n",
    "\n",
    "\n",
    "\n",
    "\n",
    "\n"
   ]
  },
  {
   "cell_type": "code",
   "execution_count": null,
   "id": "87b1f68e-edaa-483b-9072-c84d7085bbb7",
   "metadata": {},
   "outputs": [],
   "source": []
  }
 ],
 "metadata": {
  "kernelspec": {
   "display_name": "Python 3 (ipykernel)",
   "language": "python",
   "name": "python3"
  },
  "language_info": {
   "codemirror_mode": {
    "name": "ipython",
    "version": 3
   },
   "file_extension": ".py",
   "mimetype": "text/x-python",
   "name": "python",
   "nbconvert_exporter": "python",
   "pygments_lexer": "ipython3",
   "version": "3.9.7"
  }
 },
 "nbformat": 4,
 "nbformat_minor": 5
}
