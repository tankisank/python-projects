{
 "cells": [
  {
   "cell_type": "code",
   "execution_count": 28,
   "id": "9716bd9a",
   "metadata": {},
   "outputs": [],
   "source": [
    "classdict={'Adithya Prabhu P':'M',\n",
    "'Ande Sai Nikhileshwar Reddy':'M',\n",
    "'Angelina Martin':'F',\n",
    "'Appireddigari Laalasa Reddy':'F',\n",
    "'Appireddigari Laalasa Reddy':'F',\n",
    "'Benduri Manikanta Goud':'M',\n",
    "'Gurupriya E':'F',\n",
    "'Jayashree S':'F',\n",
    "'Kaaveya R':'F',\n",
    "'Kailash S':'M',\n",
    "'Kannan A R':'M',\n",
    "'Karanam Sathya Naga Pavan':'M',\n",
    "'Karthikeyan Poonguntran':'M',\n",
    "'Kasham Shetty Kailash':'M',\n",
    "'Keerthi Yaghash S':'M',\n",
    "'Kevin Anand V':'M',\n",
    "'Balashanmugam M':'M',\n",
    "'Natesh Subramanian':'M',\n",
    "'Paluru Venkata Nitheesh Reddy':'M',\n",
    "'Preethi Narayanan':'F',\n",
    "'Putta Nikhila Priya':'F',\n",
    "'Lakshmi Narayanan R':'M',\n",
    "'Rahul Srinivas G':'M',\n",
    "'Redhik Dileep':'M',\n",
    "'Roshan C':'M',\n",
    "'Shrihari S':'M',\n",
    "'K Shyam Kumar Reddy':'M',\n",
    "'Tellapuram Snehith Reddy':'M',\n",
    "'Srinidhi S':'F',\n",
    "'C Swetha':'F',\n",
    "'Varshitha M':'F',\n",
    "'Venkatesh B':'M',\n",
    "'Vundela Rupa Yasaswini':'F',\n",
    "'Yechuri Sumanth':'M',\n",
    "'Venkata Krishnan A':'M',\n",
    "'Harini Gopal P':'F',\n",
    "'Vidyachowdhary Yadoti':'F',\n",
    "'Alice Jessie R':'F',\n",
    "'Aadithya C':'M',\n",
    "'Isanaka Chandrahas Reddy':'M',\n",
    "'Jahnavi Edara':'F',\n",
    "'Marla Padma Sumyami':'F',\n",
    "'Sankaranarayanan S':'M',\n",
    "'Upendhar S':'M',\n",
    "'Vaishnavi P':'F',\n",
    "'Vidyuth Krishna S':'M',\n",
    "'Priyashruthi S':'F',\n",
    "'Dipika R':'F',\n",
    "'Dudiki Swetha':'F',\n",
    "'Kothuru Venkata Sai Siva Gokul':'M',\n",
    "'Pazhaniappan M':'M',\n",
    "'Adithya K':'M',\n",
    "'Manasvi A':'F',\n",
    "'Niranjan S':'M',\n",
    "'Vishwa E':'M',\n",
    "'Addepalli Venkata Parasaran':'M',\n",
    "'Chethan Reddy Chinthaparthi':'M',\n",
    "'Dongala Sai Nikhitha':'F',\n",
    "'Lalithya G':'F',\n",
    "'Reshma Sherine S A':'F'}"
   ]
  },
  {
   "cell_type": "code",
   "execution_count": 29,
   "id": "93bd59f8",
   "metadata": {},
   "outputs": [],
   "source": [
    "keys, values = zip(*classdict.items())"
   ]
  },
  {
   "cell_type": "code",
   "execution_count": 30,
   "id": "b8f9d6b4",
   "metadata": {},
   "outputs": [
    {
     "name": "stdout",
     "output_type": "stream",
     "text": [
      "no of females 24\n",
      "no of males 35\n"
     ]
    }
   ],
   "source": [
    "m=0\n",
    "f=0\n",
    "for i in values:\n",
    "    if i=='M':\n",
    "        m=m+1\n",
    "    elif i=='F':\n",
    "        f=f+1\n",
    "print(\"no of females\",f)\n",
    "print(\"no of males\",m)"
   ]
  },
  {
   "cell_type": "code",
   "execution_count": 31,
   "id": "8afcd2a5",
   "metadata": {},
   "outputs": [],
   "source": [
    "#no of groups of 6-> 9\n",
    "#no of groups of 5->1- 3 boys 2 girls\n",
    "#remaining 32 boys 22 girls\n",
    "# 5 groups of 4 boys and 2 girls\n",
    "# 4 groups of 3 boys  and 3 girls\n",
    "\n"
   ]
  },
  {
   "cell_type": "code",
   "execution_count": 32,
   "id": "f1746d90",
   "metadata": {},
   "outputs": [],
   "source": [
    "males=[]\n",
    "females=[]\n",
    "for i in range(59):\n",
    "    if values[i]=='M':\n",
    "        males.append(keys[i])\n",
    "    elif values[i]=='F':\n",
    "        females.append(keys[i])"
   ]
  },
  {
   "cell_type": "code",
   "execution_count": 33,
   "id": "9f3d66ad",
   "metadata": {},
   "outputs": [
    {
     "data": {
      "text/plain": [
       "['Adithya Prabhu P',\n",
       " 'Ande Sai Nikhileshwar Reddy',\n",
       " 'Benduri Manikanta Goud',\n",
       " 'Kailash S',\n",
       " 'Kannan A R',\n",
       " 'Karanam Sathya Naga Pavan',\n",
       " 'Karthikeyan Poonguntran',\n",
       " 'Kasham Shetty Kailash',\n",
       " 'Keerthi Yaghash S',\n",
       " 'Kevin Anand V',\n",
       " 'Balashanmugam M',\n",
       " 'Natesh Subramanian',\n",
       " 'Paluru Venkata Nitheesh Reddy',\n",
       " 'Lakshmi Narayanan R',\n",
       " 'Rahul Srinivas G',\n",
       " 'Redhik Dileep',\n",
       " 'Roshan C',\n",
       " 'Shrihari S',\n",
       " 'K Shyam Kumar Reddy',\n",
       " 'Tellapuram Snehith Reddy',\n",
       " 'Venkatesh B',\n",
       " 'Yechuri Sumanth',\n",
       " 'Venkata Krishnan A',\n",
       " 'Aadithya C',\n",
       " 'Isanaka Chandrahas Reddy',\n",
       " 'Sankaranarayanan S',\n",
       " 'Upendhar S',\n",
       " 'Vidyuth Krishna S',\n",
       " 'Kothuru Venkata Sai Siva Gokul',\n",
       " 'Pazhaniappan M',\n",
       " 'Adithya K',\n",
       " 'Niranjan S',\n",
       " 'Vishwa E',\n",
       " 'Addepalli Venkata Parasaran',\n",
       " 'Chethan Reddy Chinthaparthi']"
      ]
     },
     "execution_count": 33,
     "metadata": {},
     "output_type": "execute_result"
    }
   ],
   "source": [
    "males"
   ]
  },
  {
   "cell_type": "code",
   "execution_count": 34,
   "id": "06fa1eee",
   "metadata": {},
   "outputs": [
    {
     "data": {
      "text/plain": [
       "['Angelina Martin',\n",
       " 'Appireddigari Laalasa Reddy',\n",
       " 'Gurupriya E',\n",
       " 'Jayashree S',\n",
       " 'Kaaveya R',\n",
       " 'Preethi Narayanan',\n",
       " 'Putta Nikhila Priya',\n",
       " 'Srinidhi S',\n",
       " 'C Swetha',\n",
       " 'Varshitha M',\n",
       " 'Vundela Rupa Yasaswini',\n",
       " 'Harini Gopal P',\n",
       " 'Vidyachowdhary Yadoti',\n",
       " 'Alice Jessie R',\n",
       " 'Jahnavi Edara',\n",
       " 'Marla Padma Sumyami',\n",
       " 'Vaishnavi P',\n",
       " 'Priyashruthi S',\n",
       " 'Dipika R',\n",
       " 'Dudiki Swetha',\n",
       " 'Manasvi A',\n",
       " 'Dongala Sai Nikhitha',\n",
       " 'Lalithya G',\n",
       " 'Reshma Sherine S A']"
      ]
     },
     "execution_count": 34,
     "metadata": {},
     "output_type": "execute_result"
    }
   ],
   "source": [
    "females"
   ]
  },
  {
   "cell_type": "code",
   "execution_count": 35,
   "id": "8fbab1e2",
   "metadata": {},
   "outputs": [
    {
     "name": "stdout",
     "output_type": "stream",
     "text": [
      "Team 1  =  ['Shrihari S', 'Roshan C', 'Aadithya C', 'Vishwa E', 'Kaaveya R', 'Harini Gopal P']\n",
      "Team 2  =  ['Benduri Manikanta Goud', 'Upendhar S', 'Adithya K', 'Kailash S', 'C Swetha', 'Vaishnavi P']\n",
      "Team 3  =  ['Kannan A R', 'Pazhaniappan M', 'Kothuru Venkata Sai Siva Gokul', 'Paluru Venkata Nitheesh Reddy', 'Preethi Narayanan', 'Priyashruthi S']\n",
      "Team 4  =  ['Balashanmugam M', 'K Shyam Kumar Reddy', 'Keerthi Yaghash S', 'Tellapuram Snehith Reddy', 'Vundela Rupa Yasaswini', 'Alice Jessie R']\n",
      "Team 5  =  ['Vidyuth Krishna S', 'Kasham Shetty Kailash', 'Natesh Subramanian', 'Yechuri Sumanth', 'Jayashree S', 'Dudiki Swetha']\n",
      "Team 6  =  ['Venkatesh B', 'Karanam Sathya Naga Pavan', 'Addepalli Venkata Parasaran', 'Marla Padma Sumyami', 'Reshma Sherine S A', 'Jahnavi Edara']\n",
      "Team 7  =  ['Niranjan S', 'Sankaranarayanan S', 'Kevin Anand V', 'Srinidhi S', 'Dipika R', 'Putta Nikhila Priya']\n",
      "Team 8  =  ['Chethan Reddy Chinthaparthi', 'Adithya Prabhu P', 'Ande Sai Nikhileshwar Reddy', 'Dongala Sai Nikhitha', 'Gurupriya E', 'Varshitha M']\n",
      "Team 9  =  ['Karthikeyan Poonguntran', 'Rahul Srinivas G', 'Lakshmi Narayanan R', 'Vidyachowdhary Yadoti', 'Lalithya G', 'Appireddigari Laalasa Reddy']\n",
      "Team 10 =  ['Redhik Dileep', 'Venkata Krishnan A', 'Isanaka Chandrahas Reddy'] ['Angelina Martin', 'Manasvi A']\n"
     ]
    }
   ],
   "source": [
    "girls=females\n",
    "boys=males\n",
    "import random\n",
    "for i in range(5):\n",
    "    lst = []\n",
    "    for j in range(4):\n",
    "        x = random.choice(boys)\n",
    "        lst.append(x)\n",
    "        boys.remove(x)\n",
    "    for k in range(2):\n",
    "        y = random.choice(girls)\n",
    "        lst.append(y)\n",
    "        girls.remove(y)\n",
    "    print(\"Team\",i+1,\" = \",lst)\n",
    "    \n",
    "for i in range(4):\n",
    "    lst = []\n",
    "    for j in range(3):\n",
    "        x = random.choice(boys)\n",
    "        lst.append(x)\n",
    "        boys.remove(x)\n",
    "    for k in range(3):\n",
    "        y = random.choice(girls)\n",
    "        lst.append(y)\n",
    "        girls.remove(y)\n",
    "    print(\"Team\",i+6,\" = \",lst)\n",
    "\n",
    "print(\"Team 10 = \",boys,girls)"
   ]
  },
  {
   "cell_type": "code",
   "execution_count": null,
   "id": "1bca3895",
   "metadata": {},
   "outputs": [],
   "source": []
  },
  {
   "cell_type": "code",
   "execution_count": null,
   "id": "dea88f25",
   "metadata": {},
   "outputs": [],
   "source": []
  }
 ],
 "metadata": {
  "kernelspec": {
   "display_name": "Python 3 (ipykernel)",
   "language": "python",
   "name": "python3"
  },
  "language_info": {
   "codemirror_mode": {
    "name": "ipython",
    "version": 3
   },
   "file_extension": ".py",
   "mimetype": "text/x-python",
   "name": "python",
   "nbconvert_exporter": "python",
   "pygments_lexer": "ipython3",
   "version": "3.9.12"
  }
 },
 "nbformat": 4,
 "nbformat_minor": 5
}
